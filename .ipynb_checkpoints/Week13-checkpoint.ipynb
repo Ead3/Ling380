{
 "cells": [
  {
   "cell_type": "markdown",
   "id": "09b4984f",
   "metadata": {},
   "source": [
    "# Ling 380 - Week 13"
   ]
  },
  {
   "cell_type": "markdown",
   "id": "0a4acb1e",
   "metadata": {},
   "source": [
    "# Topic modelling\n",
    "\n",
    "Topic modelling is a very useful technique to get information from a large dataset. It is a type of *unsupervised machine learning*. Recall that *supervised machine learning* involved learning patterns from data, given a dataset and labels (e.g., movie reviews and stars). In unsupervised machine learning, we find patterns, but we do not have labels associated with the data. The task is to learn to classify or cluster the data by exploiting the patterns or similarities in the documents.\n",
    "\n",
    "The basic idea behind topic modelling is that you can identify topics or themes in a collection of documents using words that co-occur. One of the implementations of this idea is LDA (Latent Dirichlet Allocation), which assumes a distribution that we try to find using words in the text. The figure below is from an easy to follow paper outlining LDA. \n",
    "\n",
    "<figure>\n",
    "    <img src=\"./img/Blei_topic_modelling.png\" style=\"width:450px;\"\n",
    "         alt=\"supervised classification\">\n",
    "</figure>\n",
    "\n",
    "Diagram from: Blei, D. M. (2012). [Probabilistic topic models](https://www.cs.columbia.edu/~blei/papers/Blei2012.pdf). Communications of the ACM, 55(4), 77-84. \n",
    "\n",
    "The data for topic modelling needs to be normalized following the usual steps we have done so far: tokenization, lemmatization, and stopword removal. Then, we use a topic modelling module to find the topics in the data. \n",
    "\n",
    "The implementation here is based on a project on extracting topics from news articles, [TACT](https://github.com/sfu-discourse-lab/TACT/tree/master). \n",
    "\n",
    "If you want to see topic models in action, go to the [research site](https://gendergaptracker.research.sfu.ca/apps/topicmodel) for the Gender Gap Tracker and check topics for any month in the last 8 years. Those are the main topics covered in Canadian news. "
   ]
  },
  {
   "cell_type": "markdown",
   "id": "33b8ef7a",
   "metadata": {},
   "source": [
    "## Data\n",
    "\n",
    "We will work with a collection of news articles, a part of the [SFU Opinion and Comments Corpus (SOCC)](https://github.com/sfu-discourse-lab/SOCC). The corpus was collected in our lab, the Discourse Processing Lab, for a project on evaluative language in online news comments. It consists of: opinion articles, comments, and annotated comments from the Canadian newspaper _The Globe and Mail_. We'll work with the articles, which should be in the data directory. If not, you can always download the corpus directly from the page above or from its [Kaggle page](https://www.kaggle.com/datasets/mtaboada/sfu-opinion-and-comments-corpus-socc) and save the `gnm_articles.csv` file to your data directory."
   ]
  },
  {
   "cell_type": "markdown",
   "id": "03519738",
   "metadata": {},
   "source": [
    "## Install gensim and import statements"
   ]
  },
  {
   "cell_type": "code",
   "execution_count": 5,
   "id": "e6e1789d",
   "metadata": {},
   "outputs": [
    {
     "name": "stdout",
     "output_type": "stream",
     "text": [
      "Requirement already satisfied: gensim in c:\\users\\dueck\\anaconda3\\lib\\site-packages (4.3.3)\n",
      "Requirement already satisfied: numpy<2.0,>=1.18.5 in c:\\users\\dueck\\anaconda3\\lib\\site-packages (from gensim) (1.26.4)\n",
      "Requirement already satisfied: scipy<1.14.0,>=1.7.0 in c:\\users\\dueck\\anaconda3\\lib\\site-packages (from gensim) (1.13.1)\n",
      "Requirement already satisfied: smart-open>=1.8.1 in c:\\users\\dueck\\anaconda3\\lib\\site-packages (from gensim) (5.2.1)\n"
     ]
    }
   ],
   "source": [
    "# run only once\n",
    "!pip install gensim --user"
   ]
  },
  {
   "cell_type": "code",
   "execution_count": 7,
   "id": "be09347a",
   "metadata": {},
   "outputs": [],
   "source": [
    "import numpy as np\n",
    "import pandas as pd\n",
    "import re\n",
    "import nltk\n",
    "from nltk import word_tokenize\n",
    "from nltk.stem import WordNetLemmatizer\n",
    "from nltk.corpus import stopwords\n",
    "stop_words = stopwords.words('english')\n",
    "import gensim\n",
    "from gensim import corpora\n",
    "from gensim.models import LdaModel"
   ]
  },
  {
   "cell_type": "markdown",
   "id": "97f7ff7a",
   "metadata": {},
   "source": [
    "## Import and examine the data"
   ]
  },
  {
   "cell_type": "code",
   "execution_count": 9,
   "id": "fc5d4474",
   "metadata": {},
   "outputs": [],
   "source": [
    "df = pd.read_csv('./data/gnm_articles.csv', encoding = 'utf-8')"
   ]
  },
  {
   "cell_type": "code",
   "execution_count": 11,
   "id": "50150ec9",
   "metadata": {},
   "outputs": [
    {
     "name": "stdout",
     "output_type": "stream",
     "text": [
      "<class 'pandas.core.frame.DataFrame'>\n",
      "RangeIndex: 10339 entries, 0 to 10338\n",
      "Data columns (total 8 columns):\n",
      " #   Column               Non-Null Count  Dtype  \n",
      "---  ------               --------------  -----  \n",
      " 0   article_id           10339 non-null  int64  \n",
      " 1   title                10339 non-null  object \n",
      " 2   article_url          10339 non-null  object \n",
      " 3   author               10339 non-null  object \n",
      " 4   published_date       10339 non-null  object \n",
      " 5   ncomments            10339 non-null  float64\n",
      " 6   ntop_level_comments  10339 non-null  float64\n",
      " 7   article_text         10339 non-null  object \n",
      "dtypes: float64(2), int64(1), object(5)\n",
      "memory usage: 646.3+ KB\n"
     ]
    }
   ],
   "source": [
    "df.info()"
   ]
  },
  {
   "cell_type": "code",
   "execution_count": 13,
   "id": "39aec615",
   "metadata": {},
   "outputs": [
    {
     "data": {
      "text/html": [
       "<div>\n",
       "<style scoped>\n",
       "    .dataframe tbody tr th:only-of-type {\n",
       "        vertical-align: middle;\n",
       "    }\n",
       "\n",
       "    .dataframe tbody tr th {\n",
       "        vertical-align: top;\n",
       "    }\n",
       "\n",
       "    .dataframe thead th {\n",
       "        text-align: right;\n",
       "    }\n",
       "</style>\n",
       "<table border=\"1\" class=\"dataframe\">\n",
       "  <thead>\n",
       "    <tr style=\"text-align: right;\">\n",
       "      <th></th>\n",
       "      <th>article_id</th>\n",
       "      <th>title</th>\n",
       "      <th>article_url</th>\n",
       "      <th>author</th>\n",
       "      <th>published_date</th>\n",
       "      <th>ncomments</th>\n",
       "      <th>ntop_level_comments</th>\n",
       "      <th>article_text</th>\n",
       "    </tr>\n",
       "  </thead>\n",
       "  <tbody>\n",
       "    <tr>\n",
       "      <th>0</th>\n",
       "      <td>26842506</td>\n",
       "      <td>The Tories deserve another mandate - Stephen H...</td>\n",
       "      <td>http://www.theglobeandmail.com/opinion/editori...</td>\n",
       "      <td>GLOBE EDITORIAL</td>\n",
       "      <td>2015-10-16 EDT</td>\n",
       "      <td>2187.0</td>\n",
       "      <td>1378.0</td>\n",
       "      <td>&lt;p&gt;All elections are choices among imperfect a...</td>\n",
       "    </tr>\n",
       "    <tr>\n",
       "      <th>1</th>\n",
       "      <td>26055892</td>\n",
       "      <td>Harper hysteria a sign of closed liberal minds</td>\n",
       "      <td>http://www.theglobeandmail.com/opinion/harper-...</td>\n",
       "      <td>Konrad Yakabuski</td>\n",
       "      <td>2015-08-24 EDT</td>\n",
       "      <td>1103.0</td>\n",
       "      <td>455.0</td>\n",
       "      <td>&lt;p&gt;If even a fraction of the darkness that his...</td>\n",
       "    </tr>\n",
       "    <tr>\n",
       "      <th>2</th>\n",
       "      <td>6929035</td>\n",
       "      <td>Too many first nations people live in a dream ...</td>\n",
       "      <td>http://www.theglobeandmail.com/opinion/too-man...</td>\n",
       "      <td>Jeffrey Simpson</td>\n",
       "      <td>2013-01-05 EST</td>\n",
       "      <td>1164.0</td>\n",
       "      <td>433.0</td>\n",
       "      <td>&lt;p&gt;Large elements of aboriginal Canada live in...</td>\n",
       "    </tr>\n",
       "    <tr>\n",
       "      <th>3</th>\n",
       "      <td>19047636</td>\n",
       "      <td>The Globe's editorial board endorses Tim Hudak...</td>\n",
       "      <td>http://www.theglobeandmail.com/opinion/editori...</td>\n",
       "      <td>GLOBE EDITORIAL</td>\n",
       "      <td>2014-06-06 EDT</td>\n",
       "      <td>905.0</td>\n",
       "      <td>432.0</td>\n",
       "      <td>&lt;p&gt;Over four days, The Globe editorial board l...</td>\n",
       "    </tr>\n",
       "    <tr>\n",
       "      <th>4</th>\n",
       "      <td>11672346</td>\n",
       "      <td>Disgruntled Arab states look to strip Canada o...</td>\n",
       "      <td>http://www.theglobeandmail.com/news/world/disg...</td>\n",
       "      <td>Campbell Clark</td>\n",
       "      <td>2013-05-02 EDT</td>\n",
       "      <td>1129.0</td>\n",
       "      <td>411.0</td>\n",
       "      <td>&lt;p&gt;Growing discontent among Arab nations over ...</td>\n",
       "    </tr>\n",
       "  </tbody>\n",
       "</table>\n",
       "</div>"
      ],
      "text/plain": [
       "   article_id                                              title  \\\n",
       "0    26842506  The Tories deserve another mandate - Stephen H...   \n",
       "1    26055892     Harper hysteria a sign of closed liberal minds   \n",
       "2     6929035  Too many first nations people live in a dream ...   \n",
       "3    19047636  The Globe's editorial board endorses Tim Hudak...   \n",
       "4    11672346  Disgruntled Arab states look to strip Canada o...   \n",
       "\n",
       "                                         article_url            author  \\\n",
       "0  http://www.theglobeandmail.com/opinion/editori...   GLOBE EDITORIAL   \n",
       "1  http://www.theglobeandmail.com/opinion/harper-...  Konrad Yakabuski   \n",
       "2  http://www.theglobeandmail.com/opinion/too-man...   Jeffrey Simpson   \n",
       "3  http://www.theglobeandmail.com/opinion/editori...   GLOBE EDITORIAL   \n",
       "4  http://www.theglobeandmail.com/news/world/disg...    Campbell Clark   \n",
       "\n",
       "   published_date  ncomments  ntop_level_comments  \\\n",
       "0  2015-10-16 EDT     2187.0               1378.0   \n",
       "1  2015-08-24 EDT     1103.0                455.0   \n",
       "2  2013-01-05 EST     1164.0                433.0   \n",
       "3  2014-06-06 EDT      905.0                432.0   \n",
       "4  2013-05-02 EDT     1129.0                411.0   \n",
       "\n",
       "                                        article_text  \n",
       "0  <p>All elections are choices among imperfect a...  \n",
       "1  <p>If even a fraction of the darkness that his...  \n",
       "2  <p>Large elements of aboriginal Canada live in...  \n",
       "3  <p>Over four days, The Globe editorial board l...  \n",
       "4  <p>Growing discontent among Arab nations over ...  "
      ]
     },
     "execution_count": 13,
     "metadata": {},
     "output_type": "execute_result"
    }
   ],
   "source": [
    "df.head()"
   ]
  },
  {
   "cell_type": "markdown",
   "id": "ba4917dc",
   "metadata": {},
   "source": [
    "## Define a function to process the article_text column\n",
    "\n",
    "The only information we are interested in is in the `article_text` column, which contains the body of the articles. We will reuse and modify the function from last week to clean up that data. We will:\n",
    "\n",
    "* Remove the html tokens (the text has `<p>` and `</p>` to mark paragraphs)\n",
    "* Tokenize and lowercase\n",
    "* Remove stopwords\n",
    "* Lemmatize -- this one is added from last week; we use the WordNet lemmatizer\n",
    "\n",
    "We apply this function to the original df, to create a new column, `article_processed`. Then, we create a dictionary from that blob of text. You can also first extract the `article_text` to a string and process it, then create the dictionary (like we did in Week 12). "
   ]
  },
  {
   "cell_type": "code",
   "execution_count": 15,
   "id": "c6a5c1e4",
   "metadata": {},
   "outputs": [],
   "source": [
    "# define a function that: 1. tokenizes, 2. lowercases and\n",
    "# 3. lemmatizes\n",
    "\n",
    "# create the lemmatizer first\n",
    "lemmatizer = WordNetLemmatizer()\n",
    "\n",
    "# define the function\n",
    "def process_text(text):\n",
    "    clean_text = re.sub(r'<.*?>', '', text)\n",
    "    words = word_tokenize(clean_text.lower())\n",
    "    cleaned_words = [word for word in words if word.isalpha() and word not in stop_words]\n",
    "    lemmatized_words = [lemmatizer.lemmatize(word) for word in cleaned_words]\n",
    "    return lemmatized_words"
   ]
  },
  {
   "cell_type": "code",
   "execution_count": 17,
   "id": "34ba968d",
   "metadata": {},
   "outputs": [],
   "source": [
    "df['article_processed'] = df['article_text'].apply(process_text)"
   ]
  },
  {
   "cell_type": "code",
   "execution_count": 19,
   "id": "16f7fdfe",
   "metadata": {
    "scrolled": true
   },
   "outputs": [
    {
     "data": {
      "text/html": [
       "<div>\n",
       "<style scoped>\n",
       "    .dataframe tbody tr th:only-of-type {\n",
       "        vertical-align: middle;\n",
       "    }\n",
       "\n",
       "    .dataframe tbody tr th {\n",
       "        vertical-align: top;\n",
       "    }\n",
       "\n",
       "    .dataframe thead th {\n",
       "        text-align: right;\n",
       "    }\n",
       "</style>\n",
       "<table border=\"1\" class=\"dataframe\">\n",
       "  <thead>\n",
       "    <tr style=\"text-align: right;\">\n",
       "      <th></th>\n",
       "      <th>article_id</th>\n",
       "      <th>title</th>\n",
       "      <th>article_url</th>\n",
       "      <th>author</th>\n",
       "      <th>published_date</th>\n",
       "      <th>ncomments</th>\n",
       "      <th>ntop_level_comments</th>\n",
       "      <th>article_text</th>\n",
       "      <th>article_processed</th>\n",
       "    </tr>\n",
       "  </thead>\n",
       "  <tbody>\n",
       "    <tr>\n",
       "      <th>0</th>\n",
       "      <td>26842506</td>\n",
       "      <td>The Tories deserve another mandate - Stephen H...</td>\n",
       "      <td>http://www.theglobeandmail.com/opinion/editori...</td>\n",
       "      <td>GLOBE EDITORIAL</td>\n",
       "      <td>2015-10-16 EDT</td>\n",
       "      <td>2187.0</td>\n",
       "      <td>1378.0</td>\n",
       "      <td>&lt;p&gt;All elections are choices among imperfect a...</td>\n",
       "      <td>[election, choice, among, imperfect, alternati...</td>\n",
       "    </tr>\n",
       "    <tr>\n",
       "      <th>1</th>\n",
       "      <td>26055892</td>\n",
       "      <td>Harper hysteria a sign of closed liberal minds</td>\n",
       "      <td>http://www.theglobeandmail.com/opinion/harper-...</td>\n",
       "      <td>Konrad Yakabuski</td>\n",
       "      <td>2015-08-24 EDT</td>\n",
       "      <td>1103.0</td>\n",
       "      <td>455.0</td>\n",
       "      <td>&lt;p&gt;If even a fraction of the darkness that his...</td>\n",
       "      <td>[even, fraction, darkness, hater, say, descend...</td>\n",
       "    </tr>\n",
       "    <tr>\n",
       "      <th>2</th>\n",
       "      <td>6929035</td>\n",
       "      <td>Too many first nations people live in a dream ...</td>\n",
       "      <td>http://www.theglobeandmail.com/opinion/too-man...</td>\n",
       "      <td>Jeffrey Simpson</td>\n",
       "      <td>2013-01-05 EST</td>\n",
       "      <td>1164.0</td>\n",
       "      <td>433.0</td>\n",
       "      <td>&lt;p&gt;Large elements of aboriginal Canada live in...</td>\n",
       "      <td>[large, element, aboriginal, canada, live, int...</td>\n",
       "    </tr>\n",
       "    <tr>\n",
       "      <th>3</th>\n",
       "      <td>19047636</td>\n",
       "      <td>The Globe's editorial board endorses Tim Hudak...</td>\n",
       "      <td>http://www.theglobeandmail.com/opinion/editori...</td>\n",
       "      <td>GLOBE EDITORIAL</td>\n",
       "      <td>2014-06-06 EDT</td>\n",
       "      <td>905.0</td>\n",
       "      <td>432.0</td>\n",
       "      <td>&lt;p&gt;Over four days, The Globe editorial board l...</td>\n",
       "      <td>[four, day, globe, editorial, board, looked, o...</td>\n",
       "    </tr>\n",
       "    <tr>\n",
       "      <th>4</th>\n",
       "      <td>11672346</td>\n",
       "      <td>Disgruntled Arab states look to strip Canada o...</td>\n",
       "      <td>http://www.theglobeandmail.com/news/world/disg...</td>\n",
       "      <td>Campbell Clark</td>\n",
       "      <td>2013-05-02 EDT</td>\n",
       "      <td>1129.0</td>\n",
       "      <td>411.0</td>\n",
       "      <td>&lt;p&gt;Growing discontent among Arab nations over ...</td>\n",
       "      <td>[growing, discontent, among, arab, nation, har...</td>\n",
       "    </tr>\n",
       "  </tbody>\n",
       "</table>\n",
       "</div>"
      ],
      "text/plain": [
       "   article_id                                              title  \\\n",
       "0    26842506  The Tories deserve another mandate - Stephen H...   \n",
       "1    26055892     Harper hysteria a sign of closed liberal minds   \n",
       "2     6929035  Too many first nations people live in a dream ...   \n",
       "3    19047636  The Globe's editorial board endorses Tim Hudak...   \n",
       "4    11672346  Disgruntled Arab states look to strip Canada o...   \n",
       "\n",
       "                                         article_url            author  \\\n",
       "0  http://www.theglobeandmail.com/opinion/editori...   GLOBE EDITORIAL   \n",
       "1  http://www.theglobeandmail.com/opinion/harper-...  Konrad Yakabuski   \n",
       "2  http://www.theglobeandmail.com/opinion/too-man...   Jeffrey Simpson   \n",
       "3  http://www.theglobeandmail.com/opinion/editori...   GLOBE EDITORIAL   \n",
       "4  http://www.theglobeandmail.com/news/world/disg...    Campbell Clark   \n",
       "\n",
       "   published_date  ncomments  ntop_level_comments  \\\n",
       "0  2015-10-16 EDT     2187.0               1378.0   \n",
       "1  2015-08-24 EDT     1103.0                455.0   \n",
       "2  2013-01-05 EST     1164.0                433.0   \n",
       "3  2014-06-06 EDT      905.0                432.0   \n",
       "4  2013-05-02 EDT     1129.0                411.0   \n",
       "\n",
       "                                        article_text  \\\n",
       "0  <p>All elections are choices among imperfect a...   \n",
       "1  <p>If even a fraction of the darkness that his...   \n",
       "2  <p>Large elements of aboriginal Canada live in...   \n",
       "3  <p>Over four days, The Globe editorial board l...   \n",
       "4  <p>Growing discontent among Arab nations over ...   \n",
       "\n",
       "                                   article_processed  \n",
       "0  [election, choice, among, imperfect, alternati...  \n",
       "1  [even, fraction, darkness, hater, say, descend...  \n",
       "2  [large, element, aboriginal, canada, live, int...  \n",
       "3  [four, day, globe, editorial, board, looked, o...  \n",
       "4  [growing, discontent, among, arab, nation, har...  "
      ]
     },
     "execution_count": 19,
     "metadata": {},
     "output_type": "execute_result"
    }
   ],
   "source": [
    "df.head()"
   ]
  },
  {
   "cell_type": "markdown",
   "id": "a74a0fa5",
   "metadata": {},
   "source": [
    "## Parameters for gensim\n",
    "\n",
    "Now that we have clean text, we will process it with gensim functions. The first one creates a dictionary of the words in the text. The second creates a corpus, a bag of words with the frequency of all the words. Finally, the LdaModel actually creates the topic model.\n",
    "\n",
    "There are several parameters you can set with LDA models. For instance, you may want to filter out words that have very few instances, because they are only representative of one or two articles. In this case, what we are setting as parameters are the number of topics and the number of iterations. We train the model with 10 topics, that is, we assume that there are 10 topics across the entire dataset. And we do 15 passes. \n",
    "\n",
    "Once we have extracted the topics, we can inspect the most representative X words in each topic. In this case, I set it to 20. One thing you could do is to try and label the topics. So, for instance, these are the two top topics when I run the model:\n",
    "\n",
    "* Topic 0: party, liberal, conservative, election, government, harper, minister, political, would, leader, ndp, campaign, prime, new, one, vote, voter, trudeau, could, time\n",
    "\n",
    "* Topic 1: per, cent, government, year, tax, canada, would, health, care, money, system, budget, cost, canadian, one, rate, spending, education, province, country\n",
    "\n",
    "I could rename them to: \n",
    "\n",
    "* Topic 0 = Canadian politics\n",
    "* Topic 1 = Budget and government spending\n",
    "\n",
    "The labels in the [Gender Gap Tracker](https://gendergaptracker.research.sfu.ca/apps/topicmodel) site are done manually every month. "
   ]
  },
  {
   "cell_type": "code",
   "execution_count": 21,
   "id": "7c27fb03",
   "metadata": {},
   "outputs": [],
   "source": [
    "# use the gensim function to create a dictionary of the words in the text\n",
    "dictionary = corpora.Dictionary(df['article_processed'])"
   ]
  },
  {
   "cell_type": "code",
   "execution_count": 23,
   "id": "e3605015",
   "metadata": {},
   "outputs": [
    {
     "name": "stdout",
     "output_type": "stream",
     "text": [
      "acceptance => 0\n",
      "accomplishment => 1\n",
      "achieves => 2\n",
      "action => 3\n",
      "almost => 4\n",
      "also => 5\n",
      "alternative => 6\n",
      "among => 7\n",
      "anyone => 8\n",
      "anything => 9\n"
     ]
    }
   ],
   "source": [
    "# you can inspect the contents of that dictionary\n",
    "for token, token_id in list(dictionary.token2id.items())[:10]:\n",
    "    print('{} => {}'.format(token, token_id))"
   ]
  },
  {
   "cell_type": "code",
   "execution_count": 25,
   "id": "2f698fca",
   "metadata": {},
   "outputs": [],
   "source": [
    "# use the doc2bow function to create a corpus, a bag of words (bow) of the text and the word counts\n",
    "corpus = [dictionary.doc2bow(text) for text in df['article_processed']]"
   ]
  },
  {
   "cell_type": "code",
   "execution_count": 27,
   "id": "abb9f402",
   "metadata": {
    "scrolled": true
   },
   "outputs": [],
   "source": [
    "# create the LDA model\n",
    "lda_model = LdaModel(corpus, num_topics=10, id2word=dictionary, passes=15)"
   ]
  },
  {
   "cell_type": "code",
   "execution_count": 29,
   "id": "5f2401be",
   "metadata": {},
   "outputs": [
    {
     "name": "stdout",
     "output_type": "stream",
     "text": [
      "Topic 0: canada, government, canadian, would, first, trade, nation, aboriginal, pipeline, new, company, oil, national, project, minister, development, country, federal, resource, community\n",
      "\n",
      "Topic 1: party, liberal, conservative, government, election, minister, quebec, would, political, harper, leader, ndp, new, campaign, one, premier, prime, voter, province, vote\n",
      "\n",
      "Topic 2: country, canada, government, state, china, war, canadian, international, would, world, military, security, foreign, iran, political, united, force, russia, minister, refugee\n",
      "\n",
      "Topic 3: per, government, cent, year, tax, canada, province, would, cost, ontario, canadian, health, money, budget, system, country, economic, one, rate, new\n",
      "\n",
      "Topic 4: woman, people, child, school, one, student, university, world, life, many, men, young, family, social, u, education, even, time, community, canadian\n",
      "\n",
      "Topic 5: obama, state, american, president, republican, romney, trump, party, would, election, america, political, presidential, candidate, one, barack, united, voter, white, campaign\n",
      "\n",
      "Topic 6: oil, energy, climate, gas, world, price, carbon, change, emission, global, water, per, industry, year, fuel, new, technology, sand, arctic, research\n",
      "\n",
      "Topic 7: one, like, people, year, day, time, say, would, said, get, know, new, thing, could, even, vancouver, way, good, go, make\n",
      "\n",
      "Topic 8: city, mayor, ford, toronto, transit, council, subway, teacher, councillor, would, said, union, plan, line, public, rob, say, government, could, ttc\n",
      "\n",
      "Topic 9: court, law, police, right, case, canada, would, government, public, health, justice, drug, one, people, canadian, judge, legal, crime, supreme, system\n",
      "\n"
     ]
    }
   ],
   "source": [
    "# print the top 20 words for each topic\n",
    "topics = lda_model.print_topics(num_words=20)\n",
    "for topic_num, topic in topics:\n",
    "    print(f\"Topic {topic_num}: \", end=\"\")\n",
    "    words = topic.split(' + ')\n",
    "    word_list = [word.split('*')[1].strip('\\\"') for word in words] \n",
    "    print(\", \".join(word_list))\n",
    "    print()"
   ]
  },
  {
   "cell_type": "code",
   "execution_count": 31,
   "id": "b8fd6562",
   "metadata": {},
   "outputs": [
    {
     "name": "stdout",
     "output_type": "stream",
     "text": [
      "Topic 0: canada (0.0210), government (0.0140), canadian (0.0140), would (0.0080), first (0.0070), trade (0.0070), nation (0.0070), aboriginal (0.0060), pipeline (0.0050), new (0.0050), company (0.0050), oil (0.0050), national (0.0050), project (0.0050), minister (0.0050), development (0.0040), country (0.0040), federal (0.0040), resource (0.0040), community (0.0040)\n",
      "\n",
      "Topic 1: party (0.0190), liberal (0.0140), conservative (0.0130), government (0.0120), election (0.0100), minister (0.0090), quebec (0.0090), would (0.0080), political (0.0080), harper (0.0080), leader (0.0080), ndp (0.0070), new (0.0060), campaign (0.0060), one (0.0050), premier (0.0050), prime (0.0050), voter (0.0040), province (0.0040), vote (0.0040)\n",
      "\n",
      "Topic 2: country (0.0120), canada (0.0090), government (0.0070), state (0.0070), china (0.0070), war (0.0070), canadian (0.0070), international (0.0070), would (0.0060), world (0.0060), military (0.0050), security (0.0050), foreign (0.0040), iran (0.0040), political (0.0040), united (0.0040), force (0.0040), russia (0.0040), minister (0.0040), refugee (0.0040)\n",
      "\n",
      "Topic 3: per (0.0140), government (0.0130), cent (0.0130), year (0.0110), tax (0.0080), canada (0.0070), province (0.0060), would (0.0060), cost (0.0050), ontario (0.0050), canadian (0.0050), health (0.0050), money (0.0050), budget (0.0050), system (0.0050), country (0.0050), economic (0.0050), one (0.0040), rate (0.0040), new (0.0040)\n",
      "\n",
      "Topic 4: woman (0.0140), people (0.0080), child (0.0080), school (0.0080), one (0.0060), student (0.0060), university (0.0060), world (0.0050), life (0.0050), many (0.0050), men (0.0040), young (0.0040), family (0.0040), social (0.0040), u (0.0040), education (0.0030), even (0.0030), time (0.0030), community (0.0030), canadian (0.0030)\n",
      "\n",
      "Topic 5: obama (0.0160), state (0.0140), american (0.0130), president (0.0130), republican (0.0120), romney (0.0090), trump (0.0080), party (0.0070), would (0.0070), election (0.0060), america (0.0060), political (0.0050), presidential (0.0050), candidate (0.0050), one (0.0050), barack (0.0040), united (0.0040), voter (0.0040), white (0.0040), campaign (0.0040)\n",
      "\n",
      "Topic 6: oil (0.0190), energy (0.0130), climate (0.0110), gas (0.0100), world (0.0090), price (0.0090), carbon (0.0080), change (0.0080), emission (0.0080), global (0.0080), water (0.0070), per (0.0070), industry (0.0060), year (0.0060), fuel (0.0060), new (0.0060), technology (0.0060), sand (0.0050), arctic (0.0050), research (0.0050)\n",
      "\n",
      "Topic 7: one (0.0080), like (0.0070), people (0.0060), year (0.0050), day (0.0050), time (0.0050), say (0.0050), would (0.0040), said (0.0040), get (0.0040), know (0.0040), new (0.0030), thing (0.0030), could (0.0030), even (0.0030), vancouver (0.0030), way (0.0030), good (0.0030), go (0.0030), make (0.0030)\n",
      "\n",
      "Topic 8: city (0.0470), mayor (0.0270), ford (0.0220), toronto (0.0210), transit (0.0170), council (0.0120), subway (0.0090), teacher (0.0090), councillor (0.0090), would (0.0080), said (0.0080), union (0.0070), plan (0.0060), line (0.0060), public (0.0060), rob (0.0060), say (0.0060), government (0.0050), could (0.0050), ttc (0.0040)\n",
      "\n",
      "Topic 9: court (0.0120), law (0.0100), police (0.0070), right (0.0070), case (0.0060), canada (0.0060), would (0.0060), government (0.0060), public (0.0050), health (0.0050), justice (0.0050), drug (0.0050), one (0.0050), people (0.0050), canadian (0.0040), judge (0.0040), legal (0.0040), crime (0.0040), supreme (0.0040), system (0.0040)\n",
      "\n"
     ]
    }
   ],
   "source": [
    "# you can also print the weight of each word in the topic\n",
    "for topic_num, topic in topics:\n",
    "    print(\"Topic {}:\".format(topic_num), end=\" \")\n",
    "    words = topic.split(' + ')\n",
    "    word_weight_list = [\"{} ({:.4f})\".format(term.strip('\\\"'), float(weight)) for weight, term in (word.split('*') for word in words)]\n",
    "    print(\", \".join(word_weight_list))\n",
    "    print()"
   ]
  },
  {
   "cell_type": "markdown",
   "id": "7cbf4795",
   "metadata": {},
   "source": [
    "# Summary\n",
    "\n",
    "We have learned about topic modelling and how to extract topics from data using the LDA model in the gensim library. "
   ]
  }
 ],
 "metadata": {
  "kernelspec": {
   "display_name": "Python [conda env:base] *",
   "language": "python",
   "name": "conda-base-py"
  },
  "language_info": {
   "codemirror_mode": {
    "name": "ipython",
    "version": 3
   },
   "file_extension": ".py",
   "mimetype": "text/x-python",
   "name": "python",
   "nbconvert_exporter": "python",
   "pygments_lexer": "ipython3",
   "version": "3.12.7"
  }
 },
 "nbformat": 4,
 "nbformat_minor": 5
}
